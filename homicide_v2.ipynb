{
 "cells": [
  {
   "cell_type": "markdown",
   "id": "913b35de-4a0c-4835-96da-3218032f1215",
   "metadata": {},
   "source": [
    "# Initializations"
   ]
  },
  {
   "cell_type": "code",
   "execution_count": 1,
   "id": "d9379b2d-55f7-48ab-b835-1c4bac172308",
   "metadata": {},
   "outputs": [],
   "source": [
    "FILEPATH = \"Data/homicide_data.csv\""
   ]
  },
  {
   "cell_type": "markdown",
   "id": "88aa7236-3a64-4838-9164-d79f3c827f1f",
   "metadata": {
    "tags": []
   },
   "source": [
    "# Imports"
   ]
  },
  {
   "cell_type": "code",
   "execution_count": 89,
   "id": "83c712ba-571a-4a51-973a-86a3e8f545e0",
   "metadata": {},
   "outputs": [],
   "source": [
    "import pandas as pd\n",
    "import numpy as np\n",
    "import matplotlib.pyplot as plt\n",
    "import plotly.express as px"
   ]
  },
  {
   "cell_type": "markdown",
   "id": "c9d2ed29-fc00-4635-b9c6-f165ac4ada63",
   "metadata": {},
   "source": [
    "# Data Loading"
   ]
  },
  {
   "cell_type": "code",
   "execution_count": 3,
   "id": "f0676745-d5ca-4680-8018-6169328d3977",
   "metadata": {},
   "outputs": [],
   "source": [
    "df = pd.read_csv(FILEPATH)"
   ]
  },
  {
   "cell_type": "code",
   "execution_count": 83,
   "id": "c4db9115-5908-4b14-a639-f6584f99759c",
   "metadata": {},
   "outputs": [
    {
     "data": {
      "text/html": [
       "<div>\n",
       "<style scoped>\n",
       "    .dataframe tbody tr th:only-of-type {\n",
       "        vertical-align: middle;\n",
       "    }\n",
       "\n",
       "    .dataframe tbody tr th {\n",
       "        vertical-align: top;\n",
       "    }\n",
       "\n",
       "    .dataframe thead th {\n",
       "        text-align: right;\n",
       "    }\n",
       "</style>\n",
       "<table border=\"1\" class=\"dataframe\">\n",
       "  <thead>\n",
       "    <tr style=\"text-align: right;\">\n",
       "      <th></th>\n",
       "      <th>Incident Number w/year</th>\n",
       "      <th>Year of Incident</th>\n",
       "      <th>Service Number ID</th>\n",
       "      <th>Watch</th>\n",
       "      <th>Call (911) Problem</th>\n",
       "      <th>Type of Incident</th>\n",
       "      <th>Type  Location</th>\n",
       "      <th>Type of Property</th>\n",
       "      <th>Incident Address</th>\n",
       "      <th>Apartment Number</th>\n",
       "      <th>...</th>\n",
       "      <th>NIBRS Code</th>\n",
       "      <th>NIBRS Group</th>\n",
       "      <th>NIBRS Type</th>\n",
       "      <th>Update Date</th>\n",
       "      <th>X Coordinate</th>\n",
       "      <th>Y Cordinate</th>\n",
       "      <th>Zip Code</th>\n",
       "      <th>City</th>\n",
       "      <th>State</th>\n",
       "      <th>Location1</th>\n",
       "    </tr>\n",
       "  </thead>\n",
       "  <tbody>\n",
       "    <tr>\n",
       "      <th>0</th>\n",
       "      <td>64280-2017</td>\n",
       "      <td>2017</td>\n",
       "      <td>264280-2017-01</td>\n",
       "      <td>3</td>\n",
       "      <td>19 - SHOOTING</td>\n",
       "      <td>MURDER</td>\n",
       "      <td>Other</td>\n",
       "      <td>Other</td>\n",
       "      <td>NaN</td>\n",
       "      <td>NaN</td>\n",
       "      <td>...</td>\n",
       "      <td>09A</td>\n",
       "      <td>A</td>\n",
       "      <td>Coded</td>\n",
       "      <td>2019-06-06 02:46:52.0000000</td>\n",
       "      <td>NaN</td>\n",
       "      <td>NaN</td>\n",
       "      <td>NaN</td>\n",
       "      <td>NaN</td>\n",
       "      <td>NaN</td>\n",
       "      <td>NaN</td>\n",
       "    </tr>\n",
       "  </tbody>\n",
       "</table>\n",
       "<p>1 rows × 86 columns</p>\n",
       "</div>"
      ],
      "text/plain": [
       "  Incident Number w/year  Year of Incident Service Number ID  Watch  \\\n",
       "0             64280-2017              2017    264280-2017-01      3   \n",
       "\n",
       "  Call (911) Problem Type of Incident Type  Location Type of Property  \\\n",
       "0      19 - SHOOTING           MURDER          Other            Other   \n",
       "\n",
       "  Incident Address Apartment Number  ...  NIBRS Code  NIBRS Group NIBRS Type  \\\n",
       "0              NaN              NaN  ...         09A            A      Coded   \n",
       "\n",
       "                   Update Date X Coordinate Y Cordinate Zip Code City  State  \\\n",
       "0  2019-06-06 02:46:52.0000000          NaN         NaN      NaN  NaN    NaN   \n",
       "\n",
       "  Location1  \n",
       "0       NaN  \n",
       "\n",
       "[1 rows x 86 columns]"
      ]
     },
     "execution_count": 83,
     "metadata": {},
     "output_type": "execute_result"
    }
   ],
   "source": [
    "df['Date of Report'] = pd.to_datetime(df['Date of Report']) # Convert date of report to datetime\n",
    "df['Date1 of Occurrence'] = pd.to_datetime(df['Date1 of Occurrence'])\n",
    "df.head(1)"
   ]
  },
  {
   "cell_type": "markdown",
   "id": "d19c6086-c3c7-4492-9c3d-755e7ac780c3",
   "metadata": {},
   "source": [
    "# Visualizations"
   ]
  },
  {
   "cell_type": "markdown",
   "id": "370b69c5-c77c-4a9e-8bb6-ae040e937264",
   "metadata": {},
   "source": [
    "## Barplot - Homicides per year"
   ]
  },
  {
   "cell_type": "code",
   "execution_count": 84,
   "id": "d08c460a-a093-4e8b-a14d-82e6246c2325",
   "metadata": {},
   "outputs": [],
   "source": [
    "df_yearly_homicides = df.groupby('Year of Incident')['NIBRS Crime Category'].count()"
   ]
  },
  {
   "cell_type": "code",
   "execution_count": 129,
   "id": "5f8b887d-dba4-4e4b-a8eb-dd215eb6bc14",
   "metadata": {},
   "outputs": [
    {
     "data": {
      "image/png": "[encoded data removed]",
      "text/plain": [
       "<Figure size 432x288 with 1 Axes>"
      ]
     },
     "metadata": {
      "needs_background": "light"
     },
     "output_type": "display_data"
    }
   ],
   "source": [
    "fig, ax = plt.subplots()\n",
    "ax.bar(x=df_yearly_homicides.index,height=df_yearly_homicides)\n",
    "ax.set(title = \"Homicide incidents reported by Dallas Police Department\")\n",
    "ax.set_xticks([2017,2018,2019,2020,2021])\n",
    "ax.set_xticklabels(['2017', '2018', '2019', '2020', '2021 up\\nto Dec 12'])\n",
    "fig.savefig('Homicide yearly.png')"
   ]
  },
  {
   "cell_type": "markdown",
   "id": "aaebe95a-d7fd-4eee-aaeb-1f1dfe7d6c44",
   "metadata": {},
   "source": [
    "## Homicides year-over-year"
   ]
  },
  {
   "cell_type": "code",
   "execution_count": 34,
   "id": "49a6196d-d35d-4fd8-a5a2-b0afa0bfe57c",
   "metadata": {},
   "outputs": [],
   "source": [
    "df_homicides_per_day = df.groupby('Date1 of Occurrence')['NIBRS Crime'].count()"
   ]
  },
  {
   "cell_type": "code",
   "execution_count": 87,
   "id": "a26c73c6-4b8d-44f4-a33c-e1d65e3519f8",
   "metadata": {},
   "outputs": [
    {
     "data": {
      "image/png": "[encoded data removed]",
      "text/plain": [
       "<Figure size 432x288 with 1 Axes>"
      ]
     },
     "metadata": {
      "needs_background": "light"
     },
     "output_type": "display_data"
    }
   ],
   "source": [
    "fig, ax = plt.subplots()\n",
    "\n",
    "df_2019 = df_homicides_per_day['2019-01-01' : '2019-12-31']\n",
    "ax.plot(df_2019.index.dayofyear,\n",
    "           df_2019.cumsum(),\n",
    "        label = '2019')\n",
    "\n",
    "\n",
    "df_2020 = df_homicides_per_day['2020-01-01' : '2020-12-31']\n",
    "ax.plot(df_2020.index.dayofyear,\n",
    "           df_2020.cumsum(),\n",
    "        label = '2020')\n",
    "\n",
    "df_2021 = df_homicides_per_day['2021-01-01' : '2021-12-31']\n",
    "ax.plot(df_2021.index.dayofyear,\n",
    "           df_2021.cumsum(),\n",
    "        label = '2021')\n",
    "\n",
    "ax.set(title = \"Year-over-year homicide incidents reported by Dallas Police\")\n",
    "ax.set_xlabel(\"Day of year\")\n",
    "\n",
    "ax.legend()\n",
    "fig.savefig('Homicides year-over-year.png')"
   ]
  },
  {
   "cell_type": "markdown",
   "id": "3914def9-cd6d-43b6-949c-8e1bad7871fb",
   "metadata": {},
   "source": [
    "## Homicides by weapon type"
   ]
  },
  {
   "cell_type": "code",
   "execution_count": 124,
   "id": "ebf3735e-b99f-4142-8919-07b8185f7acc",
   "metadata": {},
   "outputs": [],
   "source": [
    "# Group homicides by year and weapon used\n",
    "df_weapons = df.groupby(['Year of Incident','Weapon Used'])['NIBRS Crime'].count()\n",
    "df_weapons = df_weapons.reset_index()\n",
    "df_weapons = df_weapons.rename({'NIBRS Crime':'Number of Incidents'}, axis = 'columns')\n",
    "\n",
    "# Sort weapons used between guns and all other\n",
    "guns_list = ['Handgun', 'Other Firearm', 'Rifle', 'Assault Weapon', 'Firearm (Type Not Stated)', 'Shotgun', 'Other Gun']\n",
    "def is_gun (row):\n",
    "    if row['Weapon Used'] in set(guns_list):\n",
    "        row['Gun'] = True\n",
    "    else:\n",
    "        row['Gun'] = False\n",
    "    return row\n",
    "df_guns = df_weapons.apply(is_gun, axis='columns')\n",
    "\n",
    "df_guns = df_guns.groupby(['Year of Incident','Gun'])['Number of Incidents'].sum()\n",
    "df_guns = df_guns.reset_index()"
   ]
  },
  {
   "cell_type": "code",
   "execution_count": 128,
   "id": "56ca466a-af97-4247-b88c-e349b1046f3e",
   "metadata": {},
   "outputs": [
    {
     "data": {
      "image/png": "[encoded data removed]",
      "text/plain": [
       "<Figure size 432x288 with 1 Axes>"
      ]
     },
     "metadata": {
      "needs_background": "light"
     },
     "output_type": "display_data"
    }
   ],
   "source": [
    "fig, ax = plt.subplots()\n",
    "\n",
    "x = sorted(df_guns['Year of Incident'].unique())\n",
    "y1 = df_guns[df_guns['Gun'] == True][\"Number of Incidents\"] # Gun-related incidents\n",
    "y2 = df_guns[df_guns['Gun'] == False][\"Number of Incidents\"] # Non-firearm related\n",
    "\n",
    "ax.bar(x, y1, label = \"Firearm incidents\", color = \"orange\")\n",
    "ax.bar(x, y2, label = \"All other weapons\", bottom = y1, color = \"grey\")\n",
    "\n",
    "ax.set(title = \"Homicide incidents by weapon type\\nreported by Dallas Police Department\")\n",
    "ax.set_xticks([2017,2018,2019,2020,2021])\n",
    "ax.set_xticklabels(['2017', '2018', '2019', '2020', '2021 up\\nto Dec 12'])\n",
    "\n",
    "ax.legend(loc=\"lower right\")\n",
    "\n",
    "fig.savefig(\"Homicides by weapon type\")"
   ]
  }
 ],
 "metadata": {
  "kernelspec": {
   "display_name": "Python 3 (ipykernel)",
   "language": "python",
   "name": "python3"
  },
  "language_info": {
   "codemirror_mode": {
    "name": "ipython",
    "version": 3
   },
   "file_extension": ".py",
   "mimetype": "text/x-python",
   "name": "python",
   "nbconvert_exporter": "python",
   "pygments_lexer": "ipython3",
   "version": "3.8.10"
  }
 },
 "nbformat": 4,
 "nbformat_minor": 5
}
